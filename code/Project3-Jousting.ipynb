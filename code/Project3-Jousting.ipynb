{
 "cells": [
  {
   "cell_type": "code",
   "execution_count": 362,
   "metadata": {
    "collapsed": true
   },
   "outputs": [],
   "source": [
    "%matplotlib inline\n",
    "\n",
    "import math as mt\n",
    "from modsim import *"
   ]
  },
  {
   "cell_type": "code",
   "execution_count": 363,
   "metadata": {
    "collapsed": true
   },
   "outputs": [],
   "source": [
    "radian = UNITS.radian\n",
    "m = UNITS.meter\n",
    "s = UNITS.second\n",
    "g = UNITS.gram\n",
    "kg = g*1000\n",
    "degree = UNITS.degree"
   ]
  },
  {
   "cell_type": "code",
   "execution_count": 364,
   "metadata": {
    "collapsed": true
   },
   "outputs": [],
   "source": [
    "rho_ash = 710 * kg/m**3\n",
    "                          #using european ash via Engineering Toolbox\n",
    "rho_air = 1.225 * kg/m**3\n",
    "                    \n",
    "knight_mass = 71 #* kg\n",
    "pull_strength = 76 * kg\n",
    "strength = 744.8 * kg * m / s**2\n",
    "                          #RoyMurray\n",
    "                      \n",
    "                   \n",
    "horse_mass = 500 #* kg\n",
    "                         #via medievalwarefare.info\n",
    "field_length = 36.6 * m\n",
    "lance_length = 3.04 * m\n",
    "                          #10 ft\n",
    "heavy_armor = 50 #* kg,  \n",
    "medium_armor = 40 #* kg,\n",
    "light_armor = 30 #* kg,                     \n",
    "lance_angle = 30 * degree\n",
    "max_speed = 13.4 * m / s\n",
    "og_acceleration = 9.78 * m/s**2\n",
    "og_armor_mass = 40 * kg"
   ]
  },
  {
   "cell_type": "code",
   "execution_count": 365,
   "metadata": {
    "collapsed": true
   },
   "outputs": [],
   "source": [
    "masses = Condition(heavy_armor = 50, \n",
    "                    medium_armor = 40,\n",
    "                    light_armor = 30, \n",
    "                      knight_mass = 71,\n",
    "                      horse_mass = 500,)\n",
    "                   \n",
    "                  \n",
    "\n",
    "def make_system(condition):\n",
    "    unpack(condition)\n",
    "    mass_light = knight_mass+horse_mass+light_armor\n",
    "    mass_medium = knight_mass+horse_mass+medium_armor\n",
    "    mass_heavy = knight_mass+horse_mass+heavy_armor\n",
    "    \n",
    "    return System(mass_light=mass_light, mass_medium=mass_medium, mass_heavy=mass_heavy)\n"
   ]
  },
  {
   "cell_type": "code",
   "execution_count": 366,
   "metadata": {},
   "outputs": [
    {
     "data": {
      "text/html": [
       "<div>\n",
       "<style>\n",
       "    .dataframe thead tr:only-child th {\n",
       "        text-align: right;\n",
       "    }\n",
       "\n",
       "    .dataframe thead th {\n",
       "        text-align: left;\n",
       "    }\n",
       "\n",
       "    .dataframe tbody tr th {\n",
       "        vertical-align: top;\n",
       "    }\n",
       "</style>\n",
       "<table border=\"1\" class=\"dataframe\">\n",
       "  <thead>\n",
       "    <tr style=\"text-align: right;\">\n",
       "      <th></th>\n",
       "      <th>value</th>\n",
       "    </tr>\n",
       "  </thead>\n",
       "  <tbody>\n",
       "    <tr>\n",
       "      <th>mass_light</th>\n",
       "      <td>601</td>\n",
       "    </tr>\n",
       "    <tr>\n",
       "      <th>mass_medium</th>\n",
       "      <td>611</td>\n",
       "    </tr>\n",
       "    <tr>\n",
       "      <th>mass_heavy</th>\n",
       "      <td>621</td>\n",
       "    </tr>\n",
       "  </tbody>\n",
       "</table>\n",
       "</div>"
      ],
      "text/plain": [
       "mass_light     601\n",
       "mass_medium    611\n",
       "mass_heavy     621\n",
       "dtype: int64"
      ]
     },
     "execution_count": 366,
     "metadata": {},
     "output_type": "execute_result"
    }
   ],
   "source": [
    "mass_system = make_system(masses)\n",
    "mass_system"
   ]
  },
  {
   "cell_type": "code",
   "execution_count": 367,
   "metadata": {
    "collapsed": true
   },
   "outputs": [],
   "source": [
    "angle_sweep = linspace(.8 * degree, 7.8 * degree, 35)\n",
    "velocity_sweep = linspace(8 * m/s, 13.4 * m/s, 20)"
   ]
  },
  {
   "cell_type": "code",
   "execution_count": 391,
   "metadata": {
    "collapsed": true
   },
   "outputs": [],
   "source": [
    "condition = Condition(heavy_armor = 50, \n",
    "                      medium_armor = 30,\n",
    "                      light_armor = 10, \n",
    "                      knight_mass = 71,\n",
    "                      horse_mass = 500,\n",
    "                      angle_min = .8 * degree,\n",
    "                      angle_max = 7.8 * degree,\n",
    "                      velocity_min = 8 * m/s,\n",
    "                      velocity_max = 13.4 * m/s)\n",
    "                   \n",
    "                  \n",
    "\n",
    "def make_system(condition):\n",
    "    unpack(condition)\n",
    "    \n",
    "    mass_light = knight_mass+horse_mass+light_armor\n",
    "    mass_medium = knight_mass+horse_mass+medium_armor\n",
    "    mass_heavy = knight_mass+horse_mass+heavy_armor\n",
    "    distance = 18\n",
    "    lance_length = 3.04\n",
    "    angle_sweep = linspace(.8 * degree, 7.8 * degree, 35)\n",
    "    velocity_sweep = linspace(8, 13.4, 20)\n",
    "    max_force = 2000 \n",
    "    rider_force = 745\n",
    "    \n",
    "    \n",
    "    return System(mass_light = mass_light, mass_medium = mass_medium, mass_heavy = mass_heavy, distance = distance,\n",
    "                 lance = lance_length, angles = angle_sweep, velocities = velocity_sweep, max_force = max_force,\n",
    "                 rider = rider_force)"
   ]
  },
  {
   "cell_type": "code",
   "execution_count": 392,
   "metadata": {},
   "outputs": [
    {
     "data": {
      "text/html": [
       "<div>\n",
       "<style>\n",
       "    .dataframe thead tr:only-child th {\n",
       "        text-align: right;\n",
       "    }\n",
       "\n",
       "    .dataframe thead th {\n",
       "        text-align: left;\n",
       "    }\n",
       "\n",
       "    .dataframe tbody tr th {\n",
       "        vertical-align: top;\n",
       "    }\n",
       "</style>\n",
       "<table border=\"1\" class=\"dataframe\">\n",
       "  <thead>\n",
       "    <tr style=\"text-align: right;\">\n",
       "      <th></th>\n",
       "      <th>value</th>\n",
       "    </tr>\n",
       "  </thead>\n",
       "  <tbody>\n",
       "    <tr>\n",
       "      <th>mass_light</th>\n",
       "      <td>581</td>\n",
       "    </tr>\n",
       "    <tr>\n",
       "      <th>mass_medium</th>\n",
       "      <td>601</td>\n",
       "    </tr>\n",
       "    <tr>\n",
       "      <th>mass_heavy</th>\n",
       "      <td>621</td>\n",
       "    </tr>\n",
       "    <tr>\n",
       "      <th>distance</th>\n",
       "      <td>18</td>\n",
       "    </tr>\n",
       "    <tr>\n",
       "      <th>lance</th>\n",
       "      <td>3.04</td>\n",
       "    </tr>\n",
       "    <tr>\n",
       "      <th>angles</th>\n",
       "      <td>[0.8 degree, 1.0058823529411764 degree, 1.2117...</td>\n",
       "    </tr>\n",
       "    <tr>\n",
       "      <th>velocities</th>\n",
       "      <td>[8.0, 8.28421052632, 8.56842105263, 8.85263157...</td>\n",
       "    </tr>\n",
       "    <tr>\n",
       "      <th>max_force</th>\n",
       "      <td>2000</td>\n",
       "    </tr>\n",
       "    <tr>\n",
       "      <th>rider</th>\n",
       "      <td>745</td>\n",
       "    </tr>\n",
       "  </tbody>\n",
       "</table>\n",
       "</div>"
      ],
      "text/plain": [
       "mass_light                                                   581\n",
       "mass_medium                                                  601\n",
       "mass_heavy                                                   621\n",
       "distance                                                      18\n",
       "lance                                                       3.04\n",
       "angles         [0.8 degree, 1.0058823529411764 degree, 1.2117...\n",
       "velocities     [8.0, 8.28421052632, 8.56842105263, 8.85263157...\n",
       "max_force                                                   2000\n",
       "rider                                                        745\n",
       "dtype: object"
      ]
     },
     "execution_count": 392,
     "metadata": {},
     "output_type": "execute_result"
    }
   ],
   "source": [
    "system = make_system(condition)\n",
    "system"
   ]
  },
  {
   "cell_type": "code",
   "execution_count": 370,
   "metadata": {},
   "outputs": [],
   "source": [
    "mass_l = system.mass_light \n",
    "mass_m = system.mass_medium\n",
    "mass_h = system.mass_heavy\n",
    "distance = system.distance\n",
    "velocity_array = system.velocities\n"
   ]
  },
  {
   "cell_type": "code",
   "execution_count": 371,
   "metadata": {},
   "outputs": [],
   "source": [
    "def sweep_velocity10(velocity_array, mass_l):\n",
    "\n",
    "    sweep = SweepSeries()\n",
    "    for velocity in velocity_array:\n",
    "        #print(velocity)\n",
    "        force_lance = mass_l * ((velocity**2)/(2*distance))\n",
    "        sweep[velocity] = force_lance\n",
    "       \n",
    "    return sweep"
   ]
  },
  {
   "cell_type": "code",
   "execution_count": 372,
   "metadata": {
    "collapsed": true
   },
   "outputs": [],
   "source": [
    "def sweep_velocity30(velocity_array, mass_m):\n",
    "\n",
    "    sweep = SweepSeries()\n",
    "    for velocity in velocity_array:\n",
    "        #print(velocity)\n",
    "        force_lance = mass_m * ((velocity**2)/(2*distance))\n",
    "        sweep[velocity] = force_lance\n",
    "       \n",
    "    return sweep"
   ]
  },
  {
   "cell_type": "code",
   "execution_count": 373,
   "metadata": {
    "collapsed": true
   },
   "outputs": [],
   "source": [
    "def sweep_velocity50(velocity_array, mass_h):\n",
    "\n",
    "    sweep = SweepSeries()\n",
    "    for velocity in velocity_array:\n",
    "        #print(velocity)\n",
    "        force_lance = mass_h * ((velocity**2)/(2*distance))\n",
    "        sweep[velocity] = force_lance\n",
    "        #plot(sweep)\n",
    "               \n",
    "    return sweep\n",
    "\n"
   ]
  },
  {
   "cell_type": "code",
   "execution_count": 374,
   "metadata": {},
   "outputs": [
    {
     "name": "stdout",
     "output_type": "stream",
     "text": [
      "8.000000     1032.888889\n",
      "8.284211     1107.581991\n",
      "8.568421     1184.882351\n",
      "8.852632     1264.789969\n",
      "9.136842     1347.304845\n",
      "9.421053     1432.426978\n",
      "9.705263     1520.156368\n",
      "9.989474     1610.493016\n",
      "10.273684    1703.436922\n",
      "10.557895    1798.988086\n",
      "10.842105    1897.146507\n",
      "11.126316    1997.912185\n",
      "11.410526    2101.285122\n",
      "11.694737    2207.265315\n",
      "11.978947    2315.852767\n",
      "12.263158    2427.047476\n",
      "12.547368    2540.849443\n",
      "12.831579    2657.258667\n",
      "13.115789    2776.275149\n",
      "13.400000    2897.898889\n",
      "dtype: float64\n"
     ]
    }
   ],
   "source": [
    "lsweep = sweep_velocity10(velocity_array, mass_l)\n",
    "print(lsweep)"
   ]
  },
  {
   "cell_type": "code",
   "execution_count": 375,
   "metadata": {},
   "outputs": [],
   "source": [
    "msweep = sweep_velocity30(velocity_array, mass_m)"
   ]
  },
  {
   "cell_type": "code",
   "execution_count": 482,
   "metadata": {},
   "outputs": [
    {
     "name": "stdout",
     "output_type": "stream",
     "text": [
      "Saving figure to file armorstuff.pdf\n"
     ]
    },
    {
     "data": {
      "image/png": "[encoded data removed]",
      "text/plain": [
       "<matplotlib.figure.Figure at 0x1c6c60c0e80>"
      ]
     },
     "metadata": {},
     "output_type": "display_data"
    }
   ],
   "source": [
    "heavy_sweep = sweep_velocity50(velocity_array, mass_h)\n",
    "newfig()\n",
    "def plot_armor():\n",
    "    \n",
    "    plot(heavy_sweep, label='Heavy Armor - 50kg')\n",
    "    plot(msweep, label='Medium Armor - 30kg')\n",
    "    plot(lsweep, label='Light Armor - 10kg')\n",
    "\n",
    "    decorate(xlabel='Velocity (m/s)',\n",
    "             ylabel='Force (N)',\n",
    "             #title='Force Measurements of Different Armor Weights vs. Velocity'\n",
    "            )\n",
    "    \n",
    "plot_armor()\n",
    "plt.tight_layout()\n",
    "savefig('armorstuff.pdf')"
   ]
  },
  {
   "cell_type": "code",
   "execution_count": 377,
   "metadata": {
    "collapsed": true
   },
   "outputs": [],
   "source": [
    "angle_sweep = linspace(.8, 7.8, 35)"
   ]
  },
  {
   "cell_type": "code",
   "execution_count": 378,
   "metadata": {
    "collapsed": true
   },
   "outputs": [],
   "source": [
    "def sweep_parameters(velocity_array, angle_array):\n",
    "    frame = SweepFrame(columns = angle_array)\n",
    "    for angle in angle_array:\n",
    "        frame[angle] = sweep_velocity10(velocity_array, mass_l)\n",
    "    return frame"
   ]
  },
  {
   "cell_type": "code",
   "execution_count": 379,
   "metadata": {},
   "outputs": [],
   "source": [
    "frame = sweep_parameters(velocity_array, angle_array)"
   ]
  },
  {
   "cell_type": "code",
   "execution_count": 453,
   "metadata": {},
   "outputs": [],
   "source": [
    "def plot_angle_sweep(frame):\n",
    "    lance = system.lance\n",
    "    for angle in frame.columns:\n",
    "        series = frame[angle]\n",
    "        for velocity in series.index:\n",
    "            forces = series[velocity]\n",
    "            #print('x')\n",
    "            #print(lance*angle*forces)\n",
    "            #print('y')\n",
    "            #print(forces)\n",
    "            #plot(forces*lance*mt.sin(np.deg2rad(angle)),'r-')\n",
    "            #plot(mt.sin(np.deg2rad(angle)), forces)\n",
    "            #plot(angle, (forces*lance*mt.sin(np.deg2rad(angle))), 'r-')\n",
    "            plot(angle, forces*lance, 'ro')"
   ]
  },
  {
   "cell_type": "code",
   "execution_count": 454,
   "metadata": {},
   "outputs": [
    {
     "data": {
      "image/png": "[encoded data removed]",
      "text/plain": [
       "<matplotlib.figure.Figure at 0x1c6c41a2b00>"
      ]
     },
     "metadata": {},
     "output_type": "display_data"
    }
   ],
   "source": [
    "ugh = plot_angle_sweep(frame)\n"
   ]
  },
  {
   "cell_type": "code",
   "execution_count": 382,
   "metadata": {
    "collapsed": true
   },
   "outputs": [],
   "source": [
    "max_f = system.max_force"
   ]
  },
  {
   "cell_type": "code",
   "execution_count": 389,
   "metadata": {
    "collapsed": true
   },
   "outputs": [],
   "source": [
    "def sweep_max(angle_array, max_f):\n",
    "    \n",
    "    sweep = SweepSeries()\n",
    "    for angle in angle_array:\n",
    "        #print(velocity)\n",
    "        shatter = max_f / (1-mt.sin(np.deg2rad(angle)))\n",
    "        sweep[angle] = shatter\n",
    "        plot(sweep)\n",
    "               \n",
    "    return sweep"
   ]
  },
  {
   "cell_type": "code",
   "execution_count": 390,
   "metadata": {},
   "outputs": [
    {
     "data": {
      "image/png": "[encoded data removed]",
      "text/plain": [
       "<matplotlib.figure.Figure at 0x1c6bc9316d8>"
      ]
     },
     "metadata": {},
     "output_type": "display_data"
    }
   ],
   "source": [
    "lancer = sweep_max(angle_array, max_f)"
   ]
  },
  {
   "cell_type": "code",
   "execution_count": 410,
   "metadata": {
    "collapsed": true
   },
   "outputs": [],
   "source": [
    "rider = system.rider\n",
    "lance = system.lance"
   ]
  },
  {
   "cell_type": "code",
   "execution_count": 411,
   "metadata": {},
   "outputs": [],
   "source": [
    "def sweep_min_torque(angle_array, rider):\n",
    "    lance = system.lance\n",
    "    sweep = SweepSeries()\n",
    "    for angle in angle_array:\n",
    "        #print(velocity)\n",
    "        \n",
    "        min_torque = lance * mt.sin(np.deg2rad(angle)) * (rider / (1-mt.sin(np.deg2rad(angle))))\n",
    "        sweep[angle] = min_torque\n",
    "        plot(sweep)\n",
    "               \n",
    "    return sweep"
   ]
  },
  {
   "cell_type": "code",
   "execution_count": 413,
   "metadata": {
    "collapsed": true
   },
   "outputs": [],
   "source": [
    "def sweep_max_torque(angle_array, max_f):\n",
    "    lance = system.lance\n",
    "    sweep = SweepSeries()\n",
    "    for angle in angle_array:\n",
    "        #print(velocity)\n",
    "        \n",
    "        max_torque = lance * mt.sin(np.deg2rad(angle)) * (max_f / (1-mt.sin(np.deg2rad(angle))))\n",
    "        sweep[angle] = max_torque\n",
    "        plot(sweep)\n",
    "               \n",
    "    return sweep"
   ]
  },
  {
   "cell_type": "code",
   "execution_count": 483,
   "metadata": {},
   "outputs": [
    {
     "name": "stdout",
     "output_type": "stream",
     "text": [
      "Saving figure to file torquethresholds.pdf\n"
     ]
    },
    {
     "data": {
      "image/png": "[encoded data removed]",
      "text/plain": [
       "<matplotlib.figure.Figure at 0x1c6c62bfb38>"
      ]
     },
     "metadata": {},
     "output_type": "display_data"
    }
   ],
   "source": [
    "def plot_torque():\n",
    "    \n",
    "    min_torque = sweep_min_torque(angle_array, rider)\n",
    "    max_torque = sweep_max_torque(angle_array, max_f)\n",
    "    plot(min_torque, 'r-', label='Min. Threshold of Torque')\n",
    "    plot(max_torque, 'b-', label='Max. Threshold of Torque')\n",
    "\n",
    "    decorate(xlabel='Angle (degrees)',\n",
    "             ylabel='Torque (Nm)',\n",
    "             #title='Force Measurements of Different Armor Weights vs. Velocity'\n",
    "            )\n",
    "    \n",
    "plot_torque()\n",
    "plt.tight_layout()\n",
    "savefig('torquethresholds.pdf')"
   ]
  },
  {
   "cell_type": "markdown",
   "metadata": {},
   "source": [
    "## "
   ]
  },
  {
   "cell_type": "code",
   "execution_count": 444,
   "metadata": {},
   "outputs": [],
   "source": [
    "def upper_bound():\n",
    "    \n",
    "    for angle in angle_array:\n",
    "        f_h = Series()\n",
    "        torque = Series()\n",
    "        f_h[angle] = 2000/(1-mt.sin(np.deg2rad(angle)))\n",
    "        tourqe[angle] = f_h[angle]*lance*mt.sin(np.deg2rad(angle))\n",
    "        plot(f_h, 'r-')\n",
    "    "
   ]
  },
  {
   "cell_type": "code",
   "execution_count": 451,
   "metadata": {
    "collapsed": true
   },
   "outputs": [],
   "source": [
    "def lower_bound():\n",
    "    for angle in angle_array:\n",
    "        f_l = Series()\n",
    "        torque_min = rider * 0.5\n",
    "        f_l[angle] = torque_min/(lance*mt.sin(np.deg2rad(angle)))\n",
    "        plot(f_l, 'b-')\n",
    "        "
   ]
  },
  {
   "cell_type": "code",
   "execution_count": 489,
   "metadata": {},
   "outputs": [
    {
     "name": "stdout",
     "output_type": "stream",
     "text": [
      "Saving figure to file forceresults.pdf\n"
     ]
    },
    {
     "name": "stderr",
     "output_type": "stream",
     "text": [
      "C:\\ProgramData\\Miniconda3\\lib\\site-packages\\matplotlib\\axes\\_axes.py:545: UserWarning: No labelled objects found. Use label='...' kwarg on individual plots.\n",
      "  warnings.warn(\"No labelled objects found. \"\n"
     ]
    },
    {
     "data": {
      "image/png": "[encoded data removed]",
      "text/plain": [
       "<matplotlib.figure.Figure at 0x1c6c7666860>"
      ]
     },
     "metadata": {},
     "output_type": "display_data"
    }
   ],
   "source": [
    "def plot_results():\n",
    "    \n",
    "    upper = upper_bound()\n",
    "    lower = lower_bound()\n",
    "    plot(upper, 'r-', label='Upper Bound of Force')\n",
    "    plot(lower, 'b-', label='Lower Bound of Force')\n",
    "    xlim([0.8, 8])\n",
    "    ylim([0, 3500])\n",
    "    \n",
    "    \n",
    "    decorate(xlabel='Angle (degrees)',\n",
    "             ylabel='Force (N)'\n",
    "             #loc[best]\n",
    "             #title='Force Measurements of Different Armor Weights vs. Velocity'\n",
    "            )\n",
    "    \n",
    "plot_results()\n",
    "plt.tight_layout()\n",
    "savefig('forceresults.pdf')"
   ]
  },
  {
   "cell_type": "code",
   "execution_count": null,
   "metadata": {
    "collapsed": true
   },
   "outputs": [],
   "source": []
  }
 ],
 "metadata": {
  "kernelspec": {
   "display_name": "Python 3",
   "language": "python",
   "name": "python3"
  },
  "language_info": {
   "codemirror_mode": {
    "name": "ipython",
    "version": 3
   },
   "file_extension": ".py",
   "mimetype": "text/x-python",
   "name": "python",
   "nbconvert_exporter": "python",
   "pygments_lexer": "ipython3",
   "version": "3.6.1"
  }
 },
 "nbformat": 4,
 "nbformat_minor": 2
}
